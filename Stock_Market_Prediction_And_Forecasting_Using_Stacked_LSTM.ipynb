{
  "cells": [
    {
      "cell_type": "markdown",
      "source": [
        "***PRIYANSHU KHARVA***\n",
        "\n",
        "**Stock Market Prediction And Forecasting Using Stacked LSTM **\n",
        "\n",
        "**DATASET LINK :- https://raw.githubusercontent.com/mwitiderrick/stockprice/master/NSE-TATAGLOBAL.csv **\n",
        "\n",
        "**ALGORITHM USED :- Sklearn inverse scalar prediction**"
      ],
      "metadata": {
        "id": "tqVRnNGq_sQM"
      }
    },
    {
      "cell_type": "markdown",
      "metadata": {
        "id": "3BsEtB1OpqpV"
      },
      "source": [
        "Importing Libraries"
      ]
    },
    {
      "cell_type": "code",
      "execution_count": null,
      "metadata": {
        "id": "7ajNGZzCpO_6"
      },
      "outputs": [],
      "source": [
        "from sklearn.model_selection import cross_validate\n",
        "from sklearn.model_selection import GridSearchCV\n",
        "from sklearn.model_selection import train_test_split\n",
        "from sklearn import ensemble, metrics\n",
        "import xgboost as xgb\n",
        "import numpy as np\n",
        "import pandas as pd\n",
        "import seaborn as sns\n",
        "import matplotlib.pyplot as plt\n",
        "import matplotlib as mpl\n",
        "import warnings"
      ]
    },
    {
      "cell_type": "code",
      "execution_count": null,
      "metadata": {
        "id": "ZMvLi8GppucU"
      },
      "outputs": [],
      "source": [
        "df = pd.read_csv('train.csv')"
      ]
    },
    {
      "cell_type": "code",
      "execution_count": null,
      "metadata": {
        "colab": {
          "base_uri": "https://localhost:8080/",
          "height": 305
        },
        "id": "0IqhSqGEqDRt",
        "outputId": "58cb1e04-c2eb-44af-af2d-86abe8068295"
      },
      "outputs": [
        {
          "data": {
            "text/html": [
              "\n",
              "  <div id=\"df-0f3302a2-7ccc-44a2-8dbf-a00d1f144840\">\n",
              "    <div class=\"colab-df-container\">\n",
              "      <div>\n",
              "<style scoped>\n",
              "    .dataframe tbody tr th:only-of-type {\n",
              "        vertical-align: middle;\n",
              "    }\n",
              "\n",
              "    .dataframe tbody tr th {\n",
              "        vertical-align: top;\n",
              "    }\n",
              "\n",
              "    .dataframe thead th {\n",
              "        text-align: right;\n",
              "    }\n",
              "</style>\n",
              "<table border=\"1\" class=\"dataframe\">\n",
              "  <thead>\n",
              "    <tr style=\"text-align: right;\">\n",
              "      <th></th>\n",
              "      <th>msno</th>\n",
              "      <th>song_id</th>\n",
              "      <th>source_system_tab</th>\n",
              "      <th>source_screen_name</th>\n",
              "      <th>source_type</th>\n",
              "      <th>target</th>\n",
              "    </tr>\n",
              "  </thead>\n",
              "  <tbody>\n",
              "    <tr>\n",
              "      <th>0</th>\n",
              "      <td>FGtllVqz18RPiwJj/edr2gV78zirAiY/9SmYvia+kCg=</td>\n",
              "      <td>BBzumQNXUHKdEBOB7mAJuzok+IJA1c2Ryg/yzTF6tik=</td>\n",
              "      <td>explore</td>\n",
              "      <td>Explore</td>\n",
              "      <td>online-playlist</td>\n",
              "      <td>1.0</td>\n",
              "    </tr>\n",
              "    <tr>\n",
              "      <th>1</th>\n",
              "      <td>Xumu+NIjS6QYVxDS4/t3SawvJ7viT9hPKXmf0RtLNx8=</td>\n",
              "      <td>bhp/MpSNoqoxOIB+/l8WPqu6jldth4DIpCm3ayXnJqM=</td>\n",
              "      <td>my library</td>\n",
              "      <td>Local playlist more</td>\n",
              "      <td>local-playlist</td>\n",
              "      <td>1.0</td>\n",
              "    </tr>\n",
              "    <tr>\n",
              "      <th>2</th>\n",
              "      <td>Xumu+NIjS6QYVxDS4/t3SawvJ7viT9hPKXmf0RtLNx8=</td>\n",
              "      <td>JNWfrrC7zNN7BdMpsISKa4Mw+xVJYNnxXh3/Epw7QgY=</td>\n",
              "      <td>my library</td>\n",
              "      <td>Local playlist more</td>\n",
              "      <td>local-playlist</td>\n",
              "      <td>1.0</td>\n",
              "    </tr>\n",
              "    <tr>\n",
              "      <th>3</th>\n",
              "      <td>Xumu+NIjS6QYVxDS4/t3SawvJ7viT9hPKXmf0RtLNx8=</td>\n",
              "      <td>2A87tzfnJTSWqD7gIZHisolhe4DMdzkbd6LzO1KHjNs=</td>\n",
              "      <td>my library</td>\n",
              "      <td>Local playlist more</td>\n",
              "      <td>local-playlist</td>\n",
              "      <td>1.0</td>\n",
              "    </tr>\n",
              "    <tr>\n",
              "      <th>4</th>\n",
              "      <td>FGtllVqz18RPiwJj/edr2gV78zirAiY/9SmYvia+kCg=</td>\n",
              "      <td>3qm6XTZ6MOCU11x8FIVbAGH5l5uMkT3/ZalWG1oo2Gc=</td>\n",
              "      <td>explore</td>\n",
              "      <td>Explore</td>\n",
              "      <td>online-playlist</td>\n",
              "      <td>1.0</td>\n",
              "    </tr>\n",
              "  </tbody>\n",
              "</table>\n",
              "</div>\n",
              "      <button class=\"colab-df-convert\" onclick=\"convertToInteractive('df-0f3302a2-7ccc-44a2-8dbf-a00d1f144840')\"\n",
              "              title=\"Convert this dataframe to an interactive table.\"\n",
              "              style=\"display:none;\">\n",
              "        \n",
              "  <svg xmlns=\"http://www.w3.org/2000/svg\" height=\"24px\"viewBox=\"0 0 24 24\"\n",
              "       width=\"24px\">\n",
              "    <path d=\"M0 0h24v24H0V0z\" fill=\"none\"/>\n",
              "    <path d=\"M18.56 5.44l.94 2.06.94-2.06 2.06-.94-2.06-.94-.94-2.06-.94 2.06-2.06.94zm-11 1L8.5 8.5l.94-2.06 2.06-.94-2.06-.94L8.5 2.5l-.94 2.06-2.06.94zm10 10l.94 2.06.94-2.06 2.06-.94-2.06-.94-.94-2.06-.94 2.06-2.06.94z\"/><path d=\"M17.41 7.96l-1.37-1.37c-.4-.4-.92-.59-1.43-.59-.52 0-1.04.2-1.43.59L10.3 9.45l-7.72 7.72c-.78.78-.78 2.05 0 2.83L4 21.41c.39.39.9.59 1.41.59.51 0 1.02-.2 1.41-.59l7.78-7.78 2.81-2.81c.8-.78.8-2.07 0-2.86zM5.41 20L4 18.59l7.72-7.72 1.47 1.35L5.41 20z\"/>\n",
              "  </svg>\n",
              "      </button>\n",
              "      \n",
              "  <style>\n",
              "    .colab-df-container {\n",
              "      display:flex;\n",
              "      flex-wrap:wrap;\n",
              "      gap: 12px;\n",
              "    }\n",
              "\n",
              "    .colab-df-convert {\n",
              "      background-color: #E8F0FE;\n",
              "      border: none;\n",
              "      border-radius: 50%;\n",
              "      cursor: pointer;\n",
              "      display: none;\n",
              "      fill: #1967D2;\n",
              "      height: 32px;\n",
              "      padding: 0 0 0 0;\n",
              "      width: 32px;\n",
              "    }\n",
              "\n",
              "    .colab-df-convert:hover {\n",
              "      background-color: #E2EBFA;\n",
              "      box-shadow: 0px 1px 2px rgba(60, 64, 67, 0.3), 0px 1px 3px 1px rgba(60, 64, 67, 0.15);\n",
              "      fill: #174EA6;\n",
              "    }\n",
              "\n",
              "    [theme=dark] .colab-df-convert {\n",
              "      background-color: #3B4455;\n",
              "      fill: #D2E3FC;\n",
              "    }\n",
              "\n",
              "    [theme=dark] .colab-df-convert:hover {\n",
              "      background-color: #434B5C;\n",
              "      box-shadow: 0px 1px 3px 1px rgba(0, 0, 0, 0.15);\n",
              "      filter: drop-shadow(0px 1px 2px rgba(0, 0, 0, 0.3));\n",
              "      fill: #FFFFFF;\n",
              "    }\n",
              "  </style>\n",
              "\n",
              "      <script>\n",
              "        const buttonEl =\n",
              "          document.querySelector('#df-0f3302a2-7ccc-44a2-8dbf-a00d1f144840 button.colab-df-convert');\n",
              "        buttonEl.style.display =\n",
              "          google.colab.kernel.accessAllowed ? 'block' : 'none';\n",
              "\n",
              "        async function convertToInteractive(key) {\n",
              "          const element = document.querySelector('#df-0f3302a2-7ccc-44a2-8dbf-a00d1f144840');\n",
              "          const dataTable =\n",
              "            await google.colab.kernel.invokeFunction('convertToInteractive',\n",
              "                                                     [key], {});\n",
              "          if (!dataTable) return;\n",
              "\n",
              "          const docLinkHtml = 'Like what you see? Visit the ' +\n",
              "            '<a target=\"_blank\" href=https://colab.research.google.com/notebooks/data_table.ipynb>data table notebook</a>'\n",
              "            + ' to learn more about interactive tables.';\n",
              "          element.innerHTML = '';\n",
              "          dataTable['output_type'] = 'display_data';\n",
              "          await google.colab.output.renderOutput(dataTable, element);\n",
              "          const docLink = document.createElement('div');\n",
              "          docLink.innerHTML = docLinkHtml;\n",
              "          element.appendChild(docLink);\n",
              "        }\n",
              "      </script>\n",
              "    </div>\n",
              "  </div>\n",
              "  "
            ],
            "text/plain": [
              "                                           msno  \\\n",
              "0  FGtllVqz18RPiwJj/edr2gV78zirAiY/9SmYvia+kCg=   \n",
              "1  Xumu+NIjS6QYVxDS4/t3SawvJ7viT9hPKXmf0RtLNx8=   \n",
              "2  Xumu+NIjS6QYVxDS4/t3SawvJ7viT9hPKXmf0RtLNx8=   \n",
              "3  Xumu+NIjS6QYVxDS4/t3SawvJ7viT9hPKXmf0RtLNx8=   \n",
              "4  FGtllVqz18RPiwJj/edr2gV78zirAiY/9SmYvia+kCg=   \n",
              "\n",
              "                                        song_id source_system_tab  \\\n",
              "0  BBzumQNXUHKdEBOB7mAJuzok+IJA1c2Ryg/yzTF6tik=           explore   \n",
              "1  bhp/MpSNoqoxOIB+/l8WPqu6jldth4DIpCm3ayXnJqM=        my library   \n",
              "2  JNWfrrC7zNN7BdMpsISKa4Mw+xVJYNnxXh3/Epw7QgY=        my library   \n",
              "3  2A87tzfnJTSWqD7gIZHisolhe4DMdzkbd6LzO1KHjNs=        my library   \n",
              "4  3qm6XTZ6MOCU11x8FIVbAGH5l5uMkT3/ZalWG1oo2Gc=           explore   \n",
              "\n",
              "    source_screen_name      source_type  target  \n",
              "0              Explore  online-playlist     1.0  \n",
              "1  Local playlist more   local-playlist     1.0  \n",
              "2  Local playlist more   local-playlist     1.0  \n",
              "3  Local playlist more   local-playlist     1.0  \n",
              "4              Explore  online-playlist     1.0  "
            ]
          },
          "execution_count": 5,
          "metadata": {},
          "output_type": "execute_result"
        }
      ],
      "source": [
        "df.head()"
      ]
    },
    {
      "cell_type": "code",
      "execution_count": null,
      "metadata": {
        "colab": {
          "base_uri": "https://localhost:8080/"
        },
        "id": "apVCyiecqL9V",
        "outputId": "5caf3381-2108-4339-c45d-8e6fe9ef8247"
      },
      "outputs": [
        {
          "data": {
            "text/plain": [
              "(7768, 6)"
            ]
          },
          "execution_count": 6,
          "metadata": {},
          "output_type": "execute_result"
        }
      ],
      "source": [
        "df.shape"
      ]
    },
    {
      "cell_type": "code",
      "execution_count": null,
      "metadata": {
        "id": "U1Ijrs8-qfgM"
      },
      "outputs": [],
      "source": [
        "df = df.sample(frac=0.1)"
      ]
    },
    {
      "cell_type": "code",
      "execution_count": null,
      "metadata": {
        "colab": {
          "base_uri": "https://localhost:8080/"
        },
        "id": "Vc1xGhCZq5Fl",
        "outputId": "4f0447d9-3063-43b1-d394-0627c93f138e"
      },
      "outputs": [
        {
          "name": "stdout",
          "output_type": "stream",
          "text": [
            "<class 'pandas.core.frame.DataFrame'>\n",
            "Int64Index: 777 entries, 6261 to 2066\n",
            "Data columns (total 6 columns):\n",
            " #   Column              Non-Null Count  Dtype  \n",
            "---  ------              --------------  -----  \n",
            " 0   msno                777 non-null    object \n",
            " 1   song_id             777 non-null    object \n",
            " 2   source_system_tab   777 non-null    object \n",
            " 3   source_screen_name  766 non-null    object \n",
            " 4   source_type         777 non-null    object \n",
            " 5   target              777 non-null    float64\n",
            "dtypes: float64(1), object(5)\n",
            "memory usage: 42.5+ KB\n"
          ]
        }
      ],
      "source": [
        "df.info()"
      ]
    },
    {
      "cell_type": "code",
      "execution_count": null,
      "metadata": {
        "id": "CQ4Yp2yyrNcT"
      },
      "outputs": [],
      "source": [
        "songs = pd.read_csv('songs.csv')"
      ]
    },
    {
      "cell_type": "code",
      "execution_count": null,
      "metadata": {
        "colab": {
          "base_uri": "https://localhost:8080/"
        },
        "id": "yUs2bnUjrfgQ",
        "outputId": "513a3798-c935-4c95-a1e4-b86bd290bfad"
      },
      "outputs": [
        {
          "name": "stdout",
          "output_type": "stream",
          "text": [
            "<class 'pandas.core.frame.DataFrame'>\n",
            "Int64Index: 777 entries, 6261 to 2066\n",
            "Data columns (total 6 columns):\n",
            " #   Column              Non-Null Count  Dtype  \n",
            "---  ------              --------------  -----  \n",
            " 0   msno                777 non-null    object \n",
            " 1   song_id             777 non-null    object \n",
            " 2   source_system_tab   777 non-null    object \n",
            " 3   source_screen_name  766 non-null    object \n",
            " 4   source_type         777 non-null    object \n",
            " 5   target              777 non-null    float64\n",
            "dtypes: float64(1), object(5)\n",
            "memory usage: 42.5+ KB\n"
          ]
        }
      ],
      "source": [
        "songs.info()"
      ]
    },
    {
      "cell_type": "code",
      "execution_count": null,
      "metadata": {
        "colab": {
          "background_save": true
        },
        "id": "CqFNSckErqwh"
      },
      "outputs": [],
      "source": [
        "df1_close = df1['Close']\n",
        "df1_close"
      ]
    },
    {
      "cell_type": "code",
      "execution_count": null,
      "metadata": {
        "colab": {
          "background_save": true
        },
        "id": "7P7kmVg4r8Ac",
        "outputId": "1b4cd04b-257e-486d-8f4d-aaf4fce385de"
      },
      "outputs": [
        {
          "name": "stdout",
          "output_type": "stream",
          "text": [
            "<class 'pandas.core.frame.DataFrame'>\n",
            "Int64Index: 777 entries, 0 to 776\n",
            "Data columns (total 12 columns):\n",
            " #   Column              Non-Null Count  Dtype  \n",
            "---  ------              --------------  -----  \n",
            " 0   msno                777 non-null    object \n",
            " 1   song_id             777 non-null    object \n",
            " 2   source_system_tab   777 non-null    object \n",
            " 3   source_screen_name  766 non-null    object \n",
            " 4   source_type         777 non-null    object \n",
            " 5   target              777 non-null    float64\n",
            " 6   song_length         363 non-null    float64\n",
            " 7   genre_ids           355 non-null    object \n",
            " 8   artist_name         363 non-null    object \n",
            " 9   composer            288 non-null    object \n",
            " 10  lyricist            232 non-null    object \n",
            " 11  language            363 non-null    float64\n",
            "dtypes: float64(3), object(9)\n",
            "memory usage: 78.9+ KB\n"
          ]
        }
      ],
      "source": [
        "scaler = MinMaxScaler(feature_range=(0,1))"
      ]
    },
    {
      "cell_type": "code",
      "execution_count": null,
      "metadata": {
        "colab": {
          "base_uri": "https://localhost:8080/"
        },
        "id": "w1FmviLisRe8",
        "outputId": "32c73eb1-142f-4c82-f899-272f593eb778"
      },
      "outputs": [
        {
          "data": {
            "text/plain": [
              "array([[0.16584967],\n",
              "       [0.16319444],\n",
              "       [0.1621732 ],\n",
              "       ...,\n",
              "       [0.62622549],\n",
              "       [0.62214052],\n",
              "       [0.62418301]])"
            ]
          },
          "execution_count": 51,
          "metadata": {},
          "output_type": "execute_result"
        }
      ],
      "source": [
        "df1_close = scaler.fit_transform(np.array(df1_close).reshape(-1,1))\n",
        "df1_close"
      ]
    },
    {
      "cell_type": "code",
      "execution_count": null,
      "metadata": {
        "id": "mzax9AYutGdI"
      },
      "outputs": [],
      "source": [
        "training_size = int(len(df1_close)*0.70)\n",
        "test_size = len(df1_close) - training_size\n",
        "train, test = df1_close[0: training_size,:], df1_close[training_size : len(df1_close),:1]"
      ]
    },
    {
      "cell_type": "code",
      "execution_count": null,
      "metadata": {
        "id": "tJtfsgOFtU85"
      },
      "outputs": [],
      "source": [
        "def create_mat(ds, time_step = 1):\n",
        "    dataX, dataY = [], []\n",
        "    for i in range(len(ds)-time_step-1):\n",
        "        a = ds[i:(i+time_step),0]\n",
        "        dataX.append(a)\n",
        "        dataY.append(ds[i + time_step, 0])\n",
        "    return np.array(dataX), np.array(dataY)"
      ]
    },
    {
      "cell_type": "code",
      "execution_count": null,
      "metadata": {
        "id": "iqX05cghtfXv"
      },
      "outputs": [],
      "source": [
        "time_step = 100\n",
        "X_train, y_train = create_mat(train, time_step)\n",
        "X_test, y_test = create_mat(test, time_step)"
      ]
    },
    {
      "cell_type": "code",
      "execution_count": null,
      "metadata": {
        "colab": {
          "base_uri": "https://localhost:8080/"
        },
        "id": "tnyyh9AvtguK",
        "outputId": "3ac8be1f-1adb-42df-9eba-fa0112e85b86"
      },
      "outputs": [
        {
          "data": {
            "text/plain": [
              "(1323, 100)"
            ]
          },
          "execution_count": 55,
          "metadata": {},
          "output_type": "execute_result"
        }
      ],
      "source": [
        "X_train.shape"
      ]
    },
    {
      "cell_type": "code",
      "execution_count": null,
      "metadata": {
        "colab": {
          "base_uri": "https://localhost:8080/"
        },
        "id": "_lfVcC2qtkJD",
        "outputId": "3c024911-149c-4ff5-d98b-6e3c6f075972"
      },
      "outputs": [
        {
          "data": {
            "text/plain": [
              "(1323,)"
            ]
          },
          "execution_count": 56,
          "metadata": {},
          "output_type": "execute_result"
        }
      ],
      "source": [
        "y_train.shape"
      ]
    },
    {
      "cell_type": "code",
      "execution_count": null,
      "metadata": {
        "colab": {
          "base_uri": "https://localhost:8080/"
        },
        "id": "LSDzrvtdtmEo",
        "outputId": "6b7abed4-dfea-4fce-a5d7-56c0ae21e19b"
      },
      "outputs": [
        {
          "data": {
            "text/plain": [
              "(510, 100)"
            ]
          },
          "execution_count": 57,
          "metadata": {},
          "output_type": "execute_result"
        }
      ],
      "source": [
        "X_test.shape"
      ]
    },
    {
      "cell_type": "code",
      "execution_count": null,
      "metadata": {
        "colab": {
          "base_uri": "https://localhost:8080/"
        },
        "id": "LwmMcNfKtqJh",
        "outputId": "20d88447-cbdf-4949-9495-9b6263cb28f6"
      },
      "outputs": [
        {
          "data": {
            "text/plain": [
              "(510,)"
            ]
          },
          "execution_count": 58,
          "metadata": {},
          "output_type": "execute_result"
        }
      ],
      "source": [
        "y_test.shape"
      ]
    },
    {
      "cell_type": "code",
      "execution_count": null,
      "metadata": {
        "id": "2DI9LsuJtrYz"
      },
      "outputs": [],
      "source": [
        "X_train = X_train.reshape(X_train.shape[0], X_train.shape[1], 1)\n",
        "X_test = X_test.reshape(X_test.shape[0], X_test.shape[1], 1)"
      ]
    },
    {
      "cell_type": "code",
      "execution_count": null,
      "metadata": {
        "colab": {
          "base_uri": "https://localhost:8080/"
        },
        "id": "6fD0_KT5tuW6",
        "outputId": "93b63d22-eb50-4ab4-f951-0270ebabd157"
      },
      "outputs": [
        {
          "name": "stdout",
          "output_type": "stream",
          "text": [
            "Model: \"sequential_1\"\n",
            "_________________________________________________________________\n",
            " Layer (type)                Output Shape              Param #   \n",
            "=================================================================\n",
            " lstm_3 (LSTM)               (None, 100, 50)           10400     \n",
            "                                                                 \n",
            " lstm_4 (LSTM)               (None, 100, 50)           20200     \n",
            "                                                                 \n",
            " lstm_5 (LSTM)               (None, 50)                20200     \n",
            "                                                                 \n",
            " dense_1 (Dense)             (None, 1)                 51        \n",
            "                                                                 \n",
            "=================================================================\n",
            "Total params: 50,851\n",
            "Trainable params: 50,851\n",
            "Non-trainable params: 0\n",
            "_________________________________________________________________\n"
          ]
        }
      ],
      "source": [
        "model = Sequential()\n",
        "model.add(LSTM(50,return_sequences=True,input_shape=(100,1)))\n",
        "model.add(LSTM(50,return_sequences=True))\n",
        "model.add(LSTM(50))\n",
        "model.add(Dense(1))\n",
        "model.compile(loss='mean_squared_error',optimizer='adam')\n",
        "model.summary()"
      ]
    },
    {
      "cell_type": "code",
      "execution_count": null,
      "metadata": {
        "colab": {
          "base_uri": "https://localhost:8080/"
        },
        "id": "0V8Ltapet9bx",
        "outputId": "d6e56127-0000-4480-bce2-52d6cfd1c1b8"
      },
      "outputs": [
        {
          "name": "stdout",
          "output_type": "stream",
          "text": [
            "Epoch 1/60\n",
            "19/19 [==============================] - 10s 254ms/step - loss: 0.0101 - val_loss: 0.0013\n",
            "Epoch 2/60\n",
            "19/19 [==============================] - 3s 180ms/step - loss: 0.0017 - val_loss: 0.0014\n",
            "Epoch 3/60\n",
            "19/19 [==============================] - 3s 177ms/step - loss: 9.0100e-04 - val_loss: 0.0012\n",
            "Epoch 4/60\n",
            "19/19 [==============================] - 3s 179ms/step - loss: 8.6627e-04 - val_loss: 0.0012\n",
            "Epoch 5/60\n",
            "19/19 [==============================] - 4s 185ms/step - loss: 8.3909e-04 - val_loss: 0.0011\n",
            "Epoch 6/60\n",
            "19/19 [==============================] - 4s 188ms/step - loss: 8.1775e-04 - val_loss: 0.0011\n",
            "Epoch 7/60\n",
            "19/19 [==============================] - 4s 185ms/step - loss: 7.9463e-04 - val_loss: 0.0010\n",
            "Epoch 8/60\n",
            "19/19 [==============================] - 3s 184ms/step - loss: 7.6136e-04 - val_loss: 9.8522e-04\n",
            "Epoch 9/60\n",
            "19/19 [==============================] - 3s 184ms/step - loss: 7.4990e-04 - val_loss: 9.4360e-04\n",
            "Epoch 10/60\n",
            "19/19 [==============================] - 4s 185ms/step - loss: 7.2081e-04 - val_loss: 9.5298e-04\n",
            "Epoch 11/60\n",
            "19/19 [==============================] - 3s 182ms/step - loss: 6.9560e-04 - val_loss: 8.6136e-04\n",
            "Epoch 12/60\n",
            "19/19 [==============================] - 3s 181ms/step - loss: 6.7168e-04 - val_loss: 8.1023e-04\n",
            "Epoch 13/60\n",
            "19/19 [==============================] - 3s 178ms/step - loss: 6.8735e-04 - val_loss: 8.1174e-04\n",
            "Epoch 14/60\n",
            "19/19 [==============================] - 3s 181ms/step - loss: 6.3063e-04 - val_loss: 7.5617e-04\n",
            "Epoch 15/60\n",
            "19/19 [==============================] - 3s 181ms/step - loss: 6.1170e-04 - val_loss: 7.0612e-04\n",
            "Epoch 16/60\n",
            "19/19 [==============================] - 3s 184ms/step - loss: 6.0672e-04 - val_loss: 7.2297e-04\n",
            "Epoch 17/60\n",
            "19/19 [==============================] - 4s 185ms/step - loss: 5.8367e-04 - val_loss: 8.5924e-04\n",
            "Epoch 18/60\n",
            "19/19 [==============================] - 3s 182ms/step - loss: 6.0114e-04 - val_loss: 6.3879e-04\n",
            "Epoch 19/60\n",
            "19/19 [==============================] - 3s 183ms/step - loss: 5.9421e-04 - val_loss: 7.0813e-04\n",
            "Epoch 20/60\n",
            "19/19 [==============================] - 4s 184ms/step - loss: 5.4528e-04 - val_loss: 6.5521e-04\n",
            "Epoch 21/60\n",
            "19/19 [==============================] - 4s 192ms/step - loss: 5.4073e-04 - val_loss: 6.5121e-04\n",
            "Epoch 22/60\n",
            "19/19 [==============================] - 4s 189ms/step - loss: 5.2183e-04 - val_loss: 6.0821e-04\n",
            "Epoch 23/60\n",
            "19/19 [==============================] - 4s 185ms/step - loss: 5.0859e-04 - val_loss: 5.4421e-04\n",
            "Epoch 24/60\n",
            "19/19 [==============================] - 3s 181ms/step - loss: 5.3129e-04 - val_loss: 5.3588e-04\n",
            "Epoch 25/60\n",
            "19/19 [==============================] - 3s 180ms/step - loss: 4.9912e-04 - val_loss: 5.6716e-04\n",
            "Epoch 26/60\n",
            "19/19 [==============================] - 3s 183ms/step - loss: 4.7222e-04 - val_loss: 4.8989e-04\n",
            "Epoch 27/60\n",
            "19/19 [==============================] - 4s 186ms/step - loss: 4.6247e-04 - val_loss: 4.9189e-04\n",
            "Epoch 28/60\n",
            "19/19 [==============================] - 3s 184ms/step - loss: 4.6371e-04 - val_loss: 4.8504e-04\n",
            "Epoch 29/60\n",
            "19/19 [==============================] - 3s 181ms/step - loss: 4.3757e-04 - val_loss: 4.6394e-04\n",
            "Epoch 30/60\n",
            "19/19 [==============================] - 3s 180ms/step - loss: 4.2437e-04 - val_loss: 4.4155e-04\n",
            "Epoch 31/60\n",
            "19/19 [==============================] - 3s 180ms/step - loss: 4.0855e-04 - val_loss: 5.7360e-04\n",
            "Epoch 32/60\n",
            "19/19 [==============================] - 3s 181ms/step - loss: 4.2746e-04 - val_loss: 3.9445e-04\n",
            "Epoch 33/60\n",
            "19/19 [==============================] - 3s 183ms/step - loss: 4.1218e-04 - val_loss: 4.0643e-04\n",
            "Epoch 34/60\n",
            "19/19 [==============================] - 3s 178ms/step - loss: 3.8629e-04 - val_loss: 5.4928e-04\n",
            "Epoch 35/60\n",
            "19/19 [==============================] - 3s 179ms/step - loss: 3.8134e-04 - val_loss: 3.5264e-04\n",
            "Epoch 36/60\n",
            "19/19 [==============================] - 3s 179ms/step - loss: 4.0178e-04 - val_loss: 3.3975e-04\n",
            "Epoch 37/60\n",
            "19/19 [==============================] - 3s 184ms/step - loss: 3.4298e-04 - val_loss: 3.4548e-04\n",
            "Epoch 38/60\n",
            "19/19 [==============================] - 3s 183ms/step - loss: 3.5839e-04 - val_loss: 4.1133e-04\n",
            "Epoch 39/60\n",
            "19/19 [==============================] - 3s 183ms/step - loss: 3.5579e-04 - val_loss: 3.3863e-04\n",
            "Epoch 40/60\n",
            "19/19 [==============================] - 3s 180ms/step - loss: 3.3678e-04 - val_loss: 3.1444e-04\n",
            "Epoch 41/60\n",
            "19/19 [==============================] - 3s 181ms/step - loss: 3.3401e-04 - val_loss: 2.9468e-04\n",
            "Epoch 42/60\n",
            "19/19 [==============================] - 3s 182ms/step - loss: 3.0204e-04 - val_loss: 2.6779e-04\n",
            "Epoch 43/60\n",
            "19/19 [==============================] - 3s 183ms/step - loss: 3.0440e-04 - val_loss: 2.8467e-04\n",
            "Epoch 44/60\n",
            "19/19 [==============================] - 4s 185ms/step - loss: 2.8952e-04 - val_loss: 2.5720e-04\n",
            "Epoch 45/60\n",
            "19/19 [==============================] - 4s 185ms/step - loss: 2.7168e-04 - val_loss: 2.7897e-04\n",
            "Epoch 46/60\n",
            "19/19 [==============================] - 3s 183ms/step - loss: 3.2208e-04 - val_loss: 2.6962e-04\n",
            "Epoch 47/60\n",
            "19/19 [==============================] - 3s 181ms/step - loss: 2.9924e-04 - val_loss: 2.6506e-04\n",
            "Epoch 48/60\n",
            "19/19 [==============================] - 4s 186ms/step - loss: 3.0304e-04 - val_loss: 3.5813e-04\n",
            "Epoch 49/60\n",
            "19/19 [==============================] - 4s 187ms/step - loss: 3.1636e-04 - val_loss: 2.2852e-04\n",
            "Epoch 50/60\n",
            "19/19 [==============================] - 3s 184ms/step - loss: 3.2224e-04 - val_loss: 2.4745e-04\n",
            "Epoch 51/60\n",
            "19/19 [==============================] - 4s 185ms/step - loss: 2.4197e-04 - val_loss: 2.1480e-04\n",
            "Epoch 52/60\n",
            "19/19 [==============================] - 3s 184ms/step - loss: 2.4822e-04 - val_loss: 2.4510e-04\n",
            "Epoch 53/60\n",
            "19/19 [==============================] - 4s 189ms/step - loss: 2.5211e-04 - val_loss: 2.1068e-04\n",
            "Epoch 54/60\n",
            "19/19 [==============================] - 4s 193ms/step - loss: 2.3198e-04 - val_loss: 1.9549e-04\n",
            "Epoch 55/60\n",
            "19/19 [==============================] - 4s 187ms/step - loss: 2.2134e-04 - val_loss: 1.9828e-04\n",
            "Epoch 56/60\n",
            "19/19 [==============================] - 3s 184ms/step - loss: 2.0992e-04 - val_loss: 1.8258e-04\n",
            "Epoch 57/60\n",
            "19/19 [==============================] - 4s 185ms/step - loss: 2.1756e-04 - val_loss: 1.8315e-04\n",
            "Epoch 58/60\n",
            "19/19 [==============================] - 4s 185ms/step - loss: 2.0785e-04 - val_loss: 1.7246e-04\n",
            "Epoch 59/60\n",
            "19/19 [==============================] - 4s 189ms/step - loss: 2.0329e-04 - val_loss: 1.8829e-04\n",
            "Epoch 60/60\n",
            "19/19 [==============================] - 4s 184ms/step - loss: 2.1542e-04 - val_loss: 1.6862e-04\n"
          ]
        },
        {
          "data": {
            "text/plain": [
              "<keras.callbacks.History at 0x7fdb03230510>"
            ]
          },
          "execution_count": 61,
          "metadata": {},
          "output_type": "execute_result"
        }
      ],
      "source": [
        "model.fit(X_train, y_train, validation_split=0.1, epochs= 60, batch_size=64, verbose = 1)"
      ]
    },
    {
      "cell_type": "code",
      "execution_count": null,
      "metadata": {
        "id": "ctFOAfYEvCdz"
      },
      "outputs": [],
      "source": [
        "predictions = model.predict(X_test)"
      ]
    },
    {
      "cell_type": "code",
      "execution_count": null,
      "metadata": {
        "id": "7pX_eS6kvJLq"
      },
      "outputs": [],
      "source": [
        "inv_predictions = scaler.inverse_transform(predictions)"
      ]
    },
    {
      "cell_type": "code",
      "execution_count": null,
      "metadata": {
        "colab": {
          "base_uri": "https://localhost:8080/"
        },
        "id": "ytN3fN1xwGqW",
        "outputId": "2e5dbc63-26a0-4624-95fe-0a2d1ec8b782"
      },
      "outputs": [
        {
          "data": {
            "text/plain": [
              "array([[141.5544  ],\n",
              "       [141.72646 ],\n",
              "       [140.79953 ],\n",
              "       [138.0814  ],\n",
              "       [136.38162 ],\n",
              "       [135.8778  ],\n",
              "       [137.14688 ],\n",
              "       [138.81989 ],\n",
              "       [139.24364 ],\n",
              "       [138.82077 ],\n",
              "       [138.50261 ],\n",
              "       [139.65858 ],\n",
              "       [140.46997 ],\n",
              "       [142.05266 ],\n",
              "       [144.26588 ],\n",
              "       [142.21408 ],\n",
              "       [139.65398 ],\n",
              "       [139.21971 ],\n",
              "       [139.91724 ],\n",
              "       [145.08632 ],\n",
              "       [149.66653 ],\n",
              "       [151.81613 ],\n",
              "       [151.98236 ],\n",
              "       [149.69592 ],\n",
              "       [149.34337 ],\n",
              "       [149.14442 ],\n",
              "       [149.63663 ],\n",
              "       [151.43143 ],\n",
              "       [152.24817 ],\n",
              "       [152.2352  ],\n",
              "       [152.56364 ],\n",
              "       [151.36127 ],\n",
              "       [148.05028 ],\n",
              "       [142.28679 ],\n",
              "       [138.81671 ],\n",
              "       [137.94846 ],\n",
              "       [138.31798 ],\n",
              "       [137.67763 ],\n",
              "       [135.39543 ],\n",
              "       [131.64482 ],\n",
              "       [129.02567 ],\n",
              "       [127.80549 ],\n",
              "       [125.76403 ],\n",
              "       [124.937225],\n",
              "       [122.932625],\n",
              "       [120.307655],\n",
              "       [119.54191 ],\n",
              "       [119.23192 ],\n",
              "       [119.46978 ],\n",
              "       [118.54208 ],\n",
              "       [117.6248  ],\n",
              "       [117.16602 ],\n",
              "       [116.345985],\n",
              "       [116.4412  ],\n",
              "       [117.73902 ],\n",
              "       [119.52078 ],\n",
              "       [121.45496 ],\n",
              "       [122.24714 ],\n",
              "       [122.00651 ],\n",
              "       [121.98934 ],\n",
              "       [122.1456  ],\n",
              "       [122.01741 ],\n",
              "       [122.23905 ],\n",
              "       [122.66893 ],\n",
              "       [122.91545 ],\n",
              "       [122.99106 ],\n",
              "       [122.813255],\n",
              "       [123.099724],\n",
              "       [123.55389 ],\n",
              "       [123.92048 ],\n",
              "       [123.18855 ],\n",
              "       [122.19992 ],\n",
              "       [120.84857 ],\n",
              "       [119.59628 ],\n",
              "       [118.30061 ],\n",
              "       [118.39641 ],\n",
              "       [118.98342 ],\n",
              "       [119.95429 ],\n",
              "       [121.04436 ],\n",
              "       [122.26065 ],\n",
              "       [123.39809 ],\n",
              "       [124.08801 ],\n",
              "       [124.50974 ],\n",
              "       [124.50446 ],\n",
              "       [124.31024 ],\n",
              "       [124.030495],\n",
              "       [124.77665 ],\n",
              "       [125.15443 ],\n",
              "       [126.11358 ],\n",
              "       [126.93203 ],\n",
              "       [127.34645 ],\n",
              "       [127.75668 ],\n",
              "       [128.66718 ],\n",
              "       [128.24896 ],\n",
              "       [127.67454 ],\n",
              "       [127.526054],\n",
              "       [127.65916 ],\n",
              "       [128.14641 ],\n",
              "       [129.05388 ],\n",
              "       [129.3451  ],\n",
              "       [129.56372 ],\n",
              "       [132.20486 ],\n",
              "       [136.73152 ],\n",
              "       [140.78029 ],\n",
              "       [142.46402 ],\n",
              "       [143.85391 ],\n",
              "       [143.90717 ],\n",
              "       [143.23839 ],\n",
              "       [141.84334 ],\n",
              "       [140.46039 ],\n",
              "       [138.88388 ],\n",
              "       [138.42194 ],\n",
              "       [138.86452 ],\n",
              "       [140.13235 ],\n",
              "       [141.32738 ],\n",
              "       [141.37971 ],\n",
              "       [140.5301  ],\n",
              "       [139.47731 ],\n",
              "       [138.45421 ],\n",
              "       [139.8395  ],\n",
              "       [141.02533 ],\n",
              "       [142.24013 ],\n",
              "       [142.96191 ],\n",
              "       [142.92178 ],\n",
              "       [142.00734 ],\n",
              "       [140.82127 ],\n",
              "       [138.67668 ],\n",
              "       [137.79124 ],\n",
              "       [138.5291  ],\n",
              "       [141.1571  ],\n",
              "       [143.69963 ],\n",
              "       [145.6554  ],\n",
              "       [146.29503 ],\n",
              "       [144.92014 ],\n",
              "       [146.35493 ],\n",
              "       [148.64774 ],\n",
              "       [149.18011 ],\n",
              "       [149.2833  ],\n",
              "       [149.3155  ],\n",
              "       [149.17355 ],\n",
              "       [149.19899 ],\n",
              "       [149.89775 ],\n",
              "       [150.98138 ],\n",
              "       [151.94942 ],\n",
              "       [151.45375 ],\n",
              "       [150.59955 ],\n",
              "       [151.04985 ],\n",
              "       [151.33333 ],\n",
              "       [150.80893 ],\n",
              "       [149.71649 ],\n",
              "       [148.37079 ],\n",
              "       [148.34927 ],\n",
              "       [149.82193 ],\n",
              "       [150.98926 ],\n",
              "       [151.64076 ],\n",
              "       [151.65544 ],\n",
              "       [152.17105 ],\n",
              "       [152.0508  ],\n",
              "       [151.98726 ],\n",
              "       [153.89691 ],\n",
              "       [155.34315 ],\n",
              "       [155.39604 ],\n",
              "       [153.50418 ],\n",
              "       [151.72148 ],\n",
              "       [151.54218 ],\n",
              "       [152.5983  ],\n",
              "       [153.39001 ],\n",
              "       [153.10123 ],\n",
              "       [153.25392 ],\n",
              "       [153.58582 ],\n",
              "       [153.146   ],\n",
              "       [150.29872 ],\n",
              "       [148.37558 ],\n",
              "       [147.26004 ],\n",
              "       [145.75858 ],\n",
              "       [143.48752 ],\n",
              "       [142.3727  ],\n",
              "       [143.8584  ],\n",
              "       [145.39198 ],\n",
              "       [146.13278 ],\n",
              "       [147.59924 ],\n",
              "       [150.00195 ],\n",
              "       [152.70244 ],\n",
              "       [154.27017 ],\n",
              "       [153.66539 ],\n",
              "       [153.27937 ],\n",
              "       [152.92615 ],\n",
              "       [152.6512  ],\n",
              "       [151.65555 ],\n",
              "       [152.60469 ],\n",
              "       [155.109   ],\n",
              "       [157.49434 ],\n",
              "       [158.30609 ],\n",
              "       [157.22778 ],\n",
              "       [155.995   ],\n",
              "       [155.34848 ],\n",
              "       [154.43633 ],\n",
              "       [152.29774 ],\n",
              "       [149.041   ],\n",
              "       [147.56575 ],\n",
              "       [147.49654 ],\n",
              "       [148.92839 ],\n",
              "       [150.80978 ],\n",
              "       [151.3525  ],\n",
              "       [153.35736 ],\n",
              "       [154.10703 ],\n",
              "       [155.4558  ],\n",
              "       [160.20679 ],\n",
              "       [165.705   ],\n",
              "       [170.54124 ],\n",
              "       [173.32123 ],\n",
              "       [173.09677 ],\n",
              "       [172.84703 ],\n",
              "       [171.3906  ],\n",
              "       [170.81036 ],\n",
              "       [169.42628 ],\n",
              "       [168.96468 ],\n",
              "       [168.48055 ],\n",
              "       [168.93034 ],\n",
              "       [170.27042 ],\n",
              "       [169.63554 ],\n",
              "       [168.70433 ],\n",
              "       [168.40802 ],\n",
              "       [167.57849 ],\n",
              "       [165.7138  ],\n",
              "       [164.99403 ],\n",
              "       [165.12862 ],\n",
              "       [167.31891 ],\n",
              "       [167.30876 ],\n",
              "       [164.29158 ],\n",
              "       [158.72636 ],\n",
              "       [158.4358  ],\n",
              "       [167.51834 ],\n",
              "       [183.5595  ],\n",
              "       [192.70119 ],\n",
              "       [194.69957 ],\n",
              "       [193.11623 ],\n",
              "       [187.53674 ],\n",
              "       [186.53047 ],\n",
              "       [187.32028 ],\n",
              "       [188.05334 ],\n",
              "       [187.26123 ],\n",
              "       [190.13058 ],\n",
              "       [193.94518 ],\n",
              "       [195.75418 ],\n",
              "       [193.42334 ],\n",
              "       [192.45451 ],\n",
              "       [197.61961 ],\n",
              "       [202.21027 ],\n",
              "       [204.00166 ],\n",
              "       [204.68741 ],\n",
              "       [205.95674 ],\n",
              "       [204.07367 ],\n",
              "       [204.4613  ],\n",
              "       [205.03423 ],\n",
              "       [206.82245 ],\n",
              "       [209.76512 ],\n",
              "       [210.07274 ],\n",
              "       [208.2709  ],\n",
              "       [200.89159 ],\n",
              "       [193.51979 ],\n",
              "       [195.48438 ],\n",
              "       [197.2541  ],\n",
              "       [200.06412 ],\n",
              "       [203.2161  ],\n",
              "       [204.74774 ],\n",
              "       [203.50865 ],\n",
              "       [203.96555 ],\n",
              "       [204.76926 ],\n",
              "       [204.2056  ],\n",
              "       [203.39133 ],\n",
              "       [203.5677  ],\n",
              "       [205.53154 ],\n",
              "       [206.13704 ],\n",
              "       [205.43777 ],\n",
              "       [205.14796 ],\n",
              "       [203.4277  ],\n",
              "       [201.01593 ],\n",
              "       [199.17575 ],\n",
              "       [202.3927  ],\n",
              "       [203.52791 ],\n",
              "       [205.26947 ],\n",
              "       [212.04503 ],\n",
              "       [219.8826  ],\n",
              "       [222.66962 ],\n",
              "       [221.58755 ],\n",
              "       [218.70879 ],\n",
              "       [216.38104 ],\n",
              "       [221.19855 ],\n",
              "       [220.65529 ],\n",
              "       [218.09174 ],\n",
              "       [225.97943 ],\n",
              "       [230.68675 ],\n",
              "       [229.56306 ],\n",
              "       [233.95119 ],\n",
              "       [239.92671 ],\n",
              "       [242.51457 ],\n",
              "       [246.2839  ],\n",
              "       [256.23022 ],\n",
              "       [260.1541  ],\n",
              "       [259.2759  ],\n",
              "       [258.1028  ],\n",
              "       [260.34293 ],\n",
              "       [261.9138  ],\n",
              "       [268.44263 ],\n",
              "       [268.07852 ],\n",
              "       [269.8043  ],\n",
              "       [269.4499  ],\n",
              "       [266.20105 ],\n",
              "       [265.32928 ],\n",
              "       [263.41046 ],\n",
              "       [268.0044  ],\n",
              "       [274.0025  ],\n",
              "       [281.15146 ],\n",
              "       [276.88342 ],\n",
              "       [269.82443 ],\n",
              "       [267.44455 ],\n",
              "       [270.11307 ],\n",
              "       [274.8551  ],\n",
              "       [282.2855  ],\n",
              "       [284.85358 ],\n",
              "       [283.1538  ],\n",
              "       [282.8389  ],\n",
              "       [285.08572 ],\n",
              "       [286.24493 ],\n",
              "       [286.97482 ],\n",
              "       [292.88724 ],\n",
              "       [293.96048 ],\n",
              "       [291.74075 ],\n",
              "       [290.69122 ],\n",
              "       [291.76114 ],\n",
              "       [293.26068 ],\n",
              "       [296.52176 ],\n",
              "       [296.5264  ],\n",
              "       [294.8609  ],\n",
              "       [293.71194 ],\n",
              "       [300.76855 ],\n",
              "       [303.01193 ],\n",
              "       [298.06827 ],\n",
              "       [293.57333 ],\n",
              "       [288.50272 ],\n",
              "       [289.26794 ],\n",
              "       [291.75995 ],\n",
              "       [291.73697 ],\n",
              "       [289.1087  ],\n",
              "       [287.58002 ],\n",
              "       [285.9554  ],\n",
              "       [286.57962 ],\n",
              "       [279.50143 ],\n",
              "       [274.0917  ],\n",
              "       [265.74023 ],\n",
              "       [261.90417 ],\n",
              "       [258.93402 ],\n",
              "       [266.2496  ],\n",
              "       [271.20694 ],\n",
              "       [269.3265  ],\n",
              "       [269.85638 ],\n",
              "       [268.39105 ],\n",
              "       [265.0616  ],\n",
              "       [261.5645  ],\n",
              "       [256.3738  ],\n",
              "       [251.85637 ],\n",
              "       [253.65488 ],\n",
              "       [253.98047 ],\n",
              "       [258.41855 ],\n",
              "       [262.49652 ],\n",
              "       [263.67633 ],\n",
              "       [262.77206 ],\n",
              "       [261.10406 ],\n",
              "       [260.71    ],\n",
              "       [260.2151  ],\n",
              "       [257.16565 ],\n",
              "       [258.44458 ],\n",
              "       [257.70096 ],\n",
              "       [261.3166  ],\n",
              "       [265.1226  ],\n",
              "       [266.04904 ],\n",
              "       [265.75958 ],\n",
              "       [261.0405  ],\n",
              "       [251.45047 ],\n",
              "       [248.59315 ],\n",
              "       [251.45386 ],\n",
              "       [251.7739  ],\n",
              "       [250.42836 ],\n",
              "       [252.01512 ],\n",
              "       [254.11746 ],\n",
              "       [251.40701 ],\n",
              "       [259.05157 ],\n",
              "       [263.22122 ],\n",
              "       [259.71494 ],\n",
              "       [257.66556 ],\n",
              "       [257.668   ],\n",
              "       [261.3715  ],\n",
              "       [262.48862 ],\n",
              "       [261.09012 ],\n",
              "       [260.20508 ],\n",
              "       [261.3635  ],\n",
              "       [264.8652  ],\n",
              "       [267.30563 ],\n",
              "       [269.2792  ],\n",
              "       [270.76617 ],\n",
              "       [270.92813 ],\n",
              "       [268.96542 ],\n",
              "       [267.67844 ],\n",
              "       [271.30365 ],\n",
              "       [275.16702 ],\n",
              "       [276.64893 ],\n",
              "       [279.37076 ],\n",
              "       [277.68655 ],\n",
              "       [272.31616 ],\n",
              "       [270.88736 ],\n",
              "       [275.9226  ],\n",
              "       [276.6903  ],\n",
              "       [276.76904 ],\n",
              "       [272.8349  ],\n",
              "       [271.8795  ],\n",
              "       [254.16164 ],\n",
              "       [236.29277 ],\n",
              "       [231.9962  ],\n",
              "       [239.97781 ],\n",
              "       [244.69035 ],\n",
              "       [243.47964 ],\n",
              "       [242.39198 ],\n",
              "       [242.92027 ],\n",
              "       [244.9759  ],\n",
              "       [247.10799 ],\n",
              "       [248.67055 ],\n",
              "       [246.70795 ],\n",
              "       [248.74768 ],\n",
              "       [253.59468 ],\n",
              "       [252.49489 ],\n",
              "       [245.60132 ],\n",
              "       [247.1528  ],\n",
              "       [252.32156 ],\n",
              "       [255.78766 ],\n",
              "       [256.16226 ],\n",
              "       [253.4082  ],\n",
              "       [253.8795  ],\n",
              "       [256.39087 ],\n",
              "       [262.36526 ],\n",
              "       [261.84985 ],\n",
              "       [261.14935 ],\n",
              "       [256.3458  ],\n",
              "       [250.14131 ],\n",
              "       [246.95512 ],\n",
              "       [249.92543 ],\n",
              "       [254.50993 ],\n",
              "       [257.82278 ],\n",
              "       [257.0012  ],\n",
              "       [254.01836 ],\n",
              "       [255.34116 ],\n",
              "       [254.17952 ],\n",
              "       [262.24738 ],\n",
              "       [265.45895 ],\n",
              "       [260.68723 ],\n",
              "       [254.01538 ],\n",
              "       [257.22372 ],\n",
              "       [261.4445  ],\n",
              "       [259.95596 ],\n",
              "       [255.1724  ],\n",
              "       [249.44844 ],\n",
              "       [238.62721 ],\n",
              "       [236.98256 ],\n",
              "       [234.95724 ],\n",
              "       [230.85106 ],\n",
              "       [232.23198 ],\n",
              "       [237.26324 ],\n",
              "       [241.10886 ],\n",
              "       [235.61644 ],\n",
              "       [231.0577  ],\n",
              "       [231.67632 ],\n",
              "       [233.40477 ],\n",
              "       [236.74727 ],\n",
              "       [231.92014 ],\n",
              "       [227.14716 ],\n",
              "       [225.66855 ],\n",
              "       [229.35484 ],\n",
              "       [231.46674 ],\n",
              "       [230.71211 ],\n",
              "       [229.97592 ],\n",
              "       [227.5999  ],\n",
              "       [226.6639  ],\n",
              "       [228.68318 ],\n",
              "       [231.42537 ],\n",
              "       [234.49092 ],\n",
              "       [236.66301 ],\n",
              "       [234.18616 ],\n",
              "       [228.61307 ],\n",
              "       [223.33775 ],\n",
              "       [225.57135 ],\n",
              "       [227.37791 ],\n",
              "       [228.4418  ],\n",
              "       [229.51697 ],\n",
              "       [228.8544  ],\n",
              "       [229.1412  ],\n",
              "       [222.10268 ],\n",
              "       [216.087   ],\n",
              "       [214.17122 ],\n",
              "       [216.33948 ],\n",
              "       [218.20355 ],\n",
              "       [215.27138 ],\n",
              "       [216.0135  ],\n",
              "       [224.05228 ],\n",
              "       [230.64175 ],\n",
              "       [230.63734 ],\n",
              "       [227.56693 ],\n",
              "       [225.08876 ],\n",
              "       [223.7437  ],\n",
              "       [225.45546 ],\n",
              "       [226.47137 ]], dtype=float32)"
            ]
          },
          "execution_count": 64,
          "metadata": {},
          "output_type": "execute_result"
        }
      ],
      "source": [
        "inv_predictions"
      ]
    },
    {
      "cell_type": "code",
      "execution_count": null,
      "metadata": {
        "colab": {
          "base_uri": "https://localhost:8080/"
        },
        "id": "AWdk5CurwQDY",
        "outputId": "bc6287a7-31a4-45c9-848d-7115c35e8aed"
      },
      "outputs": [
        {
          "name": "stdout",
          "output_type": "stream",
          "text": [
            "The Mean Squared Error for above model is:  0.0403524734798987\n"
          ]
        }
      ],
      "source": [
        "mse = math.sqrt(mean_squared_error(y_test, predictions))\n",
        "print(\"The Mean Squared Error for above model is: \", mse)"
      ]
    }
  ],
  "metadata": {
    "colab": {
      "provenance": [],
      "collapsed_sections": []
    },
    "kernelspec": {
      "display_name": "Python 3",
      "name": "python3"
    },
    "language_info": {
      "name": "python"
    }
  },
  "nbformat": 4,
  "nbformat_minor": 0
}